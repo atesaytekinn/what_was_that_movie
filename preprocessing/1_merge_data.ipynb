{
 "cells": [
  {
   "cell_type": "code",
   "execution_count": 1,
   "metadata": {},
   "outputs": [],
   "source": [
    "import pandas as pd\n",
    "import ast"
   ]
  },
  {
   "cell_type": "code",
   "execution_count": 33,
   "metadata": {},
   "outputs": [
    {
     "name": "stdout",
     "output_type": "stream",
     "text": [
      "44482\n",
      "45432\n"
     ]
    },
    {
     "name": "stderr",
     "output_type": "stream",
     "text": [
      "/var/folders/_2/kn_m0by955v3cwcl8jz5d3yw0000gn/T/ipykernel_19712/4222953973.py:2: DtypeWarning: Columns (10) have mixed types. Specify dtype option on import or set low_memory=False.\n",
      "  df_meta = pd.read_csv(\"movies_metadata.csv\")\n"
     ]
    }
   ],
   "source": [
    "df_kw = pd.read_csv(\"keywords.csv\")\n",
    "df_meta = pd.read_csv(\"movies_metadata.csv\")\n",
    "\n",
    "df_meta = df_meta.drop_duplicates(subset=[\"id\"])\n",
    "df_kw = df_kw.drop_duplicates()\n",
    "\n",
    "df_meta = df_meta.dropna(subset=[\"overview\"])\n",
    "\n",
    "if (df_meta.shape[0] == df_meta[\"id\"].nunique()): print(df_meta.shape[0])\n",
    "if (df_kw.shape[0] == df_kw[\"id\"].nunique()): print(df_kw.shape[0])"
   ]
  },
  {
   "cell_type": "code",
   "execution_count": 41,
   "metadata": {},
   "outputs": [],
   "source": [
    "def get_string(val):\n",
    "    if type(val) != str:\n",
    "        return \"\"\n",
    "    nval = ast.literal_eval(val)\n",
    "    if type(nval) == dict:\n",
    "        return nval[\"name\"]\n",
    "    elif type(nval) == list:\n",
    "        rval = \"\"\n",
    "        for el in nval:\n",
    "            rval += el[\"name\"]\n",
    "            rval += \" \"\n",
    "        return rval\n",
    "    elif type(nval) == float:\n",
    "        return \"\"\n",
    "    else:\n",
    "        print(val)\n",
    "        print(type(val))\n",
    "        print(nval)\n",
    "        print(type(nval))\n",
    "        raise"
   ]
  },
  {
   "cell_type": "code",
   "execution_count": 45,
   "metadata": {},
   "outputs": [],
   "source": [
    "id_vals = []\n",
    "title_vals = []\n",
    "doc_vals = []\n",
    "\n",
    "problematic_ids = ['1997-08-20', '2012-09-29', '2014-01-01']\n",
    "\n",
    "for ind, row in df_meta.iterrows():\n",
    "    mov_id = row[\"id\"]\n",
    "    if mov_id in problematic_ids:\n",
    "        continue\n",
    "    overview_text = row[\"overview\"]\n",
    "    tagline_text = \"\" if type(row[\"tagline\"]) != str else row[\"tagline\"]\n",
    "    genres_string = get_string(row[\"genres\"])\n",
    "    collection_string = get_string(row[\"belongs_to_collection\"])\n",
    "    keyword_rows = df_kw[df_kw[\"id\"] == int (mov_id)]\n",
    "    if keyword_rows.shape[0] > 0:\n",
    "        keywords = keyword_rows.iloc[0][\"keywords\"]\n",
    "        keyword_string = get_string(keywords)\n",
    "    else:\n",
    "        keywords_string = \"\"\n",
    "    \n",
    "    doc = overview_text + \" \" + tagline_text + \" \" + keyword_string + \" \" + collection_string + \" \" + genres_string\n",
    "    id_vals.append(mov_id)\n",
    "    title_vals.append(row[\"title\"])\n",
    "    doc_vals.append(doc)\n"
   ]
  },
  {
   "cell_type": "code",
   "execution_count": 50,
   "metadata": {},
   "outputs": [
    {
     "data": {
      "text/plain": [
       "(44479, 3)"
      ]
     },
     "execution_count": 50,
     "metadata": {},
     "output_type": "execute_result"
    }
   ],
   "source": [
    "df = pd.DataFrame({\n",
    "    \"id\" : id_vals,\n",
    "    \"title\" : title_vals,\n",
    "    \"doc\" : doc_vals,\n",
    "})\n",
    "df.shape"
   ]
  },
  {
   "cell_type": "code",
   "execution_count": 61,
   "metadata": {},
   "outputs": [
    {
     "data": {
      "text/plain": [
       "adult                                                                False\n",
       "belongs_to_collection                                                  NaN\n",
       "budget                                                                   0\n",
       "genres                                                                  []\n",
       "homepage                                                               NaN\n",
       "id                                                                  461257\n",
       "imdb_id                                                          tt6980792\n",
       "original_language                                                       en\n",
       "original_title                                                    Queerama\n",
       "overview                 50 years after decriminalisation of homosexual...\n",
       "popularity                                                        0.163015\n",
       "poster_path                               /s5UkZt6NTsrS7ZF0Rh8nzupRlIU.jpg\n",
       "production_companies                                                    []\n",
       "production_countries      [{'iso_3166_1': 'GB', 'name': 'United Kingdom'}]\n",
       "release_date                                                    2017-06-09\n",
       "revenue                                                                0.0\n",
       "runtime                                                               75.0\n",
       "spoken_languages                  [{'iso_639_1': 'en', 'name': 'English'}]\n",
       "status                                                            Released\n",
       "tagline                                                                NaN\n",
       "title                                                             Queerama\n",
       "video                                                                False\n",
       "vote_average                                                           0.0\n",
       "vote_count                                                             0.0\n",
       "Name: 45465, dtype: object"
      ]
     },
     "execution_count": 61,
     "metadata": {},
     "output_type": "execute_result"
    }
   ],
   "source": [
    "df_meta.iloc[-1]"
   ]
  },
  {
   "cell_type": "code",
   "execution_count": 62,
   "metadata": {},
   "outputs": [
    {
     "data": {
      "text/plain": [
       "'[]'"
      ]
     },
     "execution_count": 62,
     "metadata": {},
     "output_type": "execute_result"
    }
   ],
   "source": [
    "df_kw[df_kw[\"id\"] == 461257].iloc[0][\"keywords\"]"
   ]
  },
  {
   "cell_type": "code",
   "execution_count": 63,
   "metadata": {},
   "outputs": [
    {
     "data": {
      "text/plain": [
       "'50 years after decriminalisation of homosexuality in the UK, director Daisy Asquith mines the jewels of the BFI archive to take us into the relationships, desires, fears and expressions of gay men and women in the 20th century.    '"
      ]
     },
     "execution_count": 63,
     "metadata": {},
     "output_type": "execute_result"
    }
   ],
   "source": [
    "df[df[\"id\"] == \"461257\"].iloc[0][\"doc\"]"
   ]
  },
  {
   "cell_type": "code",
   "execution_count": 65,
   "metadata": {},
   "outputs": [],
   "source": [
    "df.to_csv('movie_description_corpus_2.csv', encoding='utf-8', index=False)"
   ]
  },
  {
   "cell_type": "code",
   "execution_count": 66,
   "metadata": {},
   "outputs": [
    {
     "data": {
      "text/plain": [
       "(44479, 3)"
      ]
     },
     "execution_count": 66,
     "metadata": {},
     "output_type": "execute_result"
    }
   ],
   "source": [
    "df.shape"
   ]
  },
  {
   "cell_type": "code",
   "execution_count": 68,
   "metadata": {},
   "outputs": [
    {
     "data": {
      "text/plain": [
       "(44479, 3)"
      ]
     },
     "execution_count": 68,
     "metadata": {},
     "output_type": "execute_result"
    }
   ],
   "source": [
    "df_n = pd.read_csv(\"movie_description_corpus.csv\")\n",
    "df_n.shape"
   ]
  },
  {
   "cell_type": "code",
   "execution_count": null,
   "metadata": {},
   "outputs": [],
   "source": []
  }
 ],
 "metadata": {
  "kernelspec": {
   "display_name": "base",
   "language": "python",
   "name": "python3"
  },
  "language_info": {
   "codemirror_mode": {
    "name": "ipython",
    "version": 3
   },
   "file_extension": ".py",
   "mimetype": "text/x-python",
   "name": "python",
   "nbconvert_exporter": "python",
   "pygments_lexer": "ipython3",
   "version": "3.10.10"
  },
  "orig_nbformat": 4
 },
 "nbformat": 4,
 "nbformat_minor": 2
}
